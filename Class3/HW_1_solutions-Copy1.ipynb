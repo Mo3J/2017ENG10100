{
 "cells": [
  {
   "cell_type": "markdown",
   "metadata": {},
   "source": [
    "<h1 align='center'> Homework 1 Solutions </h1>\n",
    "## We'll talk about this more in depth during our fifth lecture (Oct 13)\n",
    "## Quiz 2 will be held at the end of our 5th lecture & it'll be of the same format as this assignment, i.e. one question for string, one for loop & control statement, one for list manipulation, and one extra for everything combined.  \n",
    "I will send out a quiz sample (preferably) by Wednesday. Stay tuned."
   ]
  },
  {
   "cell_type": "markdown",
   "metadata": {},
   "source": [
    "Each problem has millions of solutions. I'm writing down ways that I can think of. As long as your program is giving out the right format of results, you'll get full credits. I will also give out partial credits based on your code.   \n",
    "Will share more in class of any new ideas I got from your code. Any modification/suggestions welcome too!\n",
    "\n",
    "                                                                            --CH Oct 7"
   ]
  },
  {
   "cell_type": "markdown",
   "metadata": {},
   "source": [
    "# 1. \n",
    "Given a string, return a \"rotated left 2\" version where the first 2 chars are moved to the end. The string length will be at least 2.\n",
    "\n",
    "`'Hello' → 'lloHe'`\n",
    "\n",
    "`'java' → 'vaja'`\n",
    "\n",
    "`'Hi' → 'Hi'`"
   ]
  },
  {
   "cell_type": "code",
   "execution_count": 1,
   "metadata": {
    "collapsed": false
   },
   "outputs": [
    {
     "name": "stdout",
     "output_type": "stream",
     "text": [
      "lloHe\n"
     ]
    }
   ],
   "source": [
    "# version a\n",
    "a = 'Hello'\n",
    "print a[2:]+a[:2]"
   ]
  },
  {
   "cell_type": "code",
   "execution_count": 3,
   "metadata": {
    "collapsed": false
   },
   "outputs": [
    {
     "name": "stdout",
     "output_type": "stream",
     "text": [
      "lloHe\n",
      "vaja\n",
      "Hi\n"
     ]
    }
   ],
   "source": [
    "# version b, anyone who gets this will get an extra credi\n",
    "# get it into a function\n",
    "def rotate_string(mystring):\n",
    "    return mystring[2:]+mystring[:2]\n",
    "\n",
    "print rotate_string('Hello')\n",
    "print rotate_string('java')\n",
    "print rotate_string('Hi')"
   ]
  },
  {
   "cell_type": "markdown",
   "metadata": {},
   "source": [
    "# 2"
   ]
  },
  {
   "cell_type": "code",
   "execution_count": 9,
   "metadata": {
    "collapsed": false
   },
   "outputs": [
    {
     "name": "stdout",
     "output_type": "stream",
     "text": [
      "1\n",
      "2\n",
      "3\n",
      "reached limit\n",
      "5\n",
      "6\n",
      "7\n",
      "8\n",
      "9\n"
     ]
    }
   ],
   "source": [
    "#Change the following Python code from using a while loop to for loop:\n",
    "\n",
    "x=1  \n",
    "while x<10:  \n",
    "    if x == 4:  \n",
    "        print 'reached limit'    \n",
    "        x+=1  \n",
    "        continue  \n",
    "    print x      \n",
    "    x+=1  \n",
    "       "
   ]
  },
  {
   "cell_type": "code",
   "execution_count": 10,
   "metadata": {
    "collapsed": false
   },
   "outputs": [
    {
     "name": "stdout",
     "output_type": "stream",
     "text": [
      "1\n",
      "2\n",
      "3\n",
      "reached limit\n",
      "5\n",
      "6\n",
      "7\n",
      "8\n",
      "9\n"
     ]
    }
   ],
   "source": [
    "# my version of for loop\n",
    "for x in range(1,10):\n",
    "    if x==4:\n",
    "        print 'reached limit'\n",
    "        continue\n",
    "    print x\n",
    "    "
   ]
  },
  {
   "cell_type": "markdown",
   "metadata": {},
   "source": [
    "# 3.\n",
    "Write a program that accepts a sentence and calculate the number of letters and digits.\n",
    "Suppose the following input is supplied to the program:\n",
    "\n",
    "`hello world! 123`\n",
    "Then, the output should be:\n",
    "\n",
    "```\n",
    "LETTERS 10\n",
    "DIGITS 3\n",
    "```"
   ]
  },
  {
   "cell_type": "code",
   "execution_count": 12,
   "metadata": {
    "collapsed": true
   },
   "outputs": [],
   "source": [
    "# version a\n",
    "mystr = 'hello world! 123'"
   ]
  },
  {
   "cell_type": "code",
   "execution_count": 15,
   "metadata": {
    "collapsed": false
   },
   "outputs": [
    {
     "name": "stdout",
     "output_type": "stream",
     "text": [
      "LETTERS 10\n",
      "DIGITS 3\n"
     ]
    }
   ],
   "source": [
    "letter_count = 0\n",
    "digit_count = 0\n",
    "for char in mystr:\n",
    "    if char.isalpha(): # a boolean statement saying if each character inside of the string is a letter\n",
    "        letter_count += 1 # if it is, add 1 to letter_count\n",
    "    elif char.isdigit():# a boolean statement saying if each character inside of the string is an alphabet \n",
    "        digit_count += 1 # if it is, add 1 to letter_count\n",
    "print 'LETTERS', letter_count\n",
    "print 'DIGITS', digit_count"
   ]
  },
  {
   "cell_type": "code",
   "execution_count": 18,
   "metadata": {
    "collapsed": true
   },
   "outputs": [],
   "source": [
    "# version b, pack it into a function\n",
    "# whoever gets this will get an extra credit\n",
    "\n",
    "def count_alp_digit(mystr): \n",
    "    '''\n",
    "    note that in this function it is not returning anything\n",
    "    Python functions can do that\n",
    "    '''\n",
    "    letter_count = 0\n",
    "    digit_count = 0\n",
    "    for char in mystr:\n",
    "        if char.isalpha(): # a boolean statement saying if each character inside of the string is a letter\n",
    "            letter_count += 1 # if it is, add 1 to letter_count\n",
    "        elif char.isdigit():# a boolean statement saying if each character inside of the string is an alphabet \n",
    "            digit_count += 1 # if it is, add 1 to letter_count\n",
    "    print 'LETTERS', letter_count\n",
    "    print 'DIGITS', digit_count\n",
    "    "
   ]
  },
  {
   "cell_type": "code",
   "execution_count": 19,
   "metadata": {
    "collapsed": false
   },
   "outputs": [
    {
     "name": "stdout",
     "output_type": "stream",
     "text": [
      "LETTERS 10\n",
      "DIGITS 3\n"
     ]
    }
   ],
   "source": [
    "count_alp_digit(mystr)"
   ]
  },
  {
   "cell_type": "markdown",
   "metadata": {},
   "source": [
    "# 4.\n",
    "Question:\n",
    "A website requires the users to input username and password to register. Write a program to check the validity of password input by users.\n",
    "\n",
    "Following are the criteria for checking the password:\n",
    "```\n",
    "1. At least 1 letter between [a-z]\n",
    "2. At least 1 number between [0-9]\n",
    "1. At least 1 letter between [A-Z]\n",
    "3. At least 1 character from [$#@]\n",
    "4. Minimum length of transaction password: 6\n",
    "5. Maximum length of transaction password: 12\n",
    "```\n",
    "\n",
    "Example:\n",
    "\n",
    "Input to the program:\n",
    "\n",
    "`ABd1234@1`\n",
    "\n",
    "The output should be `Strong Password`\n",
    "\n",
    "Whereas for inputs like:\n",
    "\n",
    "`a F1#`\n",
    "`2w3E*`\n",
    "`2We3345`\n",
    "\n",
    "The output should be `Weak Password`\n"
   ]
  },
  {
   "cell_type": "code",
   "execution_count": 38,
   "metadata": {
    "collapsed": false
   },
   "outputs": [
    {
     "name": "stdout",
     "output_type": "stream",
     "text": [
      "Strong Password\n"
     ]
    }
   ],
   "source": [
    "# version a, for loops\n",
    "# you can also do it in while loops\n",
    "\n",
    "mypassword = 'abd@vdsfAF7'\n",
    "password = 'Weak Password'\n",
    "if (len(mypassword) >= 6) & (len(mypassword)<= 12): #see if the length is from 6 to 12\n",
    "    for i in mypassword: # for an individual character\n",
    "        if i.isupper(): # if it's a upper case letter\n",
    "            for j in mypassword: # for an individual character\n",
    "                if j.islower(): # if it's a lower case letter\n",
    "                    for z in mypassword:# for an individual character\n",
    "                        if z.isdigit(): # if it's a digit, note that for one character, if it's a digit, it can only be from 0 to 9\n",
    "                            for h in mypassword:\n",
    "                                if (h=='#') or (h=='$') or (h=='@'): # if it's equal to special characters\n",
    "                                    password = 'Strong Password' # reassign a value to password\n",
    "print password #print password outside your loops to avoid redundant print"
   ]
  },
  {
   "cell_type": "code",
   "execution_count": 45,
   "metadata": {
    "collapsed": false
   },
   "outputs": [
    {
     "name": "stdout",
     "output_type": "stream",
     "text": [
      "Weak Password\n"
     ]
    }
   ],
   "source": [
    "# version b, character values\n",
    "mypassword = 'abd@vdsfAF7'\n",
    "password = 'Weak Password'\n",
    "if (len(mypassword) >= 6) & (len(mypassword)<= 12): #see if the length is from 6 to 12\n",
    "    for i in mypassword: # for an individual character\n",
    "        if (i>='A') & (i<='Z'): # if it's a upper case letter\n",
    "            for j in mypassword: # for an individual character\n",
    "                if (j>='a') & (j<='z'): # if it's a lower case letter\n",
    "                    for z in mypassword:# for an individual character\n",
    "                        if (z>=0) & (z<=9): # if it's a digit, note that for one character, if it's a digit, it can only be from 0 to 9\n",
    "                            for h in mypassword:\n",
    "                                if (h=='#') or (h=='$') or (h=='@'): # if it's equal to special characters\n",
    "                                    password = 'Strong Password' # reassign a value to password\n",
    "print password"
   ]
  },
  {
   "cell_type": "code",
   "execution_count": 41,
   "metadata": {
    "collapsed": false
   },
   "outputs": [
    {
     "name": "stdout",
     "output_type": "stream",
     "text": [
      "Strong Password\n"
     ]
    }
   ],
   "source": [
    "# version c, keep a count for every category\n",
    "# I'd prefer this way of less indentation so that things look nice and clear\n",
    "mypassword = 'abd@vdsfAF7'\n",
    "password = 'Weak Password'\n",
    "lower = 0\n",
    "upper = 0\n",
    "digit = 0\n",
    "special_char = 0\n",
    "if (len(mypassword) >= 6) & (len(mypassword)<= 12): #see if the length is from 6 to 12\n",
    "    for i in mypassword: # for an individual character\n",
    "        if i.isupper():# if it's a upper case letter\n",
    "            upper+=1\n",
    "        if i.islower():\n",
    "            lower+=1\n",
    "        if i.isdigit():\n",
    "            digit+=1\n",
    "        if (i=='#') or (i=='$') or (i=='@'):\n",
    "            special_char+=1\n",
    "        if (upper>0) & (lower>0) & (digit>0) & (special_char>0):\n",
    "            password = 'Strong Password'\n",
    "            \n",
    "print password "
   ]
  },
  {
   "cell_type": "code",
   "execution_count": 1,
   "metadata": {
    "collapsed": true
   },
   "outputs": [],
   "source": [
    "# if I pack version c into a function:\n",
    "def if_password(mypassword):\n",
    "    password = 'Weak Password'\n",
    "    lower = 0\n",
    "    upper = 0\n",
    "    digit = 0\n",
    "    special_char = 0\n",
    "    if (len(mypassword) >= 6) & (len(mypassword)<= 12): #see if the length is from 6 to 12\n",
    "        for i in mypassword: # for an individual character\n",
    "            if i.isupper():# if it's a upper case letter\n",
    "                upper+=1\n",
    "            if i.islower():\n",
    "                lower+=1\n",
    "            if i.isdigit():\n",
    "                digit+=1\n",
    "            if (i=='#') or (i=='$') or (i=='@'):\n",
    "                special_char+=1\n",
    "            if (upper>0) & (lower>0) & (digit>0) & (special_char>0):\n",
    "                password = 'Strong Password'\n",
    "\n",
    "    return password"
   ]
  },
  {
   "cell_type": "code",
   "execution_count": 3,
   "metadata": {
    "collapsed": true
   },
   "outputs": [],
   "source": [
    "digit = 1"
   ]
  },
  {
   "cell_type": "code",
   "execution_count": 4,
   "metadata": {
    "collapsed": true
   },
   "outputs": [],
   "source": [
    "digit += 1"
   ]
  },
  {
   "cell_type": "code",
   "execution_count": 5,
   "metadata": {
    "collapsed": false
   },
   "outputs": [
    {
     "data": {
      "text/plain": [
       "2"
      ]
     },
     "execution_count": 5,
     "metadata": {},
     "output_type": "execute_result"
    }
   ],
   "source": [
    "digit"
   ]
  },
  {
   "cell_type": "code",
   "execution_count": 2,
   "metadata": {
    "collapsed": false
   },
   "outputs": [
    {
     "data": {
      "text/plain": [
       "'Weak Password'"
      ]
     },
     "execution_count": 2,
     "metadata": {},
     "output_type": "execute_result"
    }
   ],
   "source": [
    "if_password('a F1# 2w3E* 2We3345')"
   ]
  },
  {
   "cell_type": "code",
   "execution_count": 48,
   "metadata": {
    "collapsed": false
   },
   "outputs": [
    {
     "data": {
      "text/plain": [
       "'Strong Password'"
      ]
     },
     "execution_count": 48,
     "metadata": {},
     "output_type": "execute_result"
    }
   ],
   "source": [
    "if_password('ABd1234@1')"
   ]
  }
 ],
 "metadata": {
  "anaconda-cloud": {},
  "kernelspec": {
   "display_name": "Python [Root]",
   "language": "python",
   "name": "Python [Root]"
  },
  "language_info": {
   "codemirror_mode": {
    "name": "ipython",
    "version": 2
   },
   "file_extension": ".py",
   "mimetype": "text/x-python",
   "name": "python",
   "nbconvert_exporter": "python",
   "pygments_lexer": "ipython2",
   "version": "2.7.13"
  }
 },
 "nbformat": 4,
 "nbformat_minor": 1
}

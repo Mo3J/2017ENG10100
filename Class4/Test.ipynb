{
 "cells": [
  {
   "cell_type": "markdown",
   "metadata": {},
   "source": [
    "## Transfer below code of for loop to while loop:"
   ]
  },
  {
   "cell_type": "markdown",
   "metadata": {},
   "source": [
    "xhuang009@citymail.cuny.edu"
   ]
  },
  {
   "cell_type": "code",
   "execution_count": 1,
   "metadata": {
    "collapsed": false
   },
   "outputs": [
    {
     "name": "stdout",
     "output_type": "stream",
     "text": [
      "printing i: 0\n",
      "printing i: 1\n",
      "printing i: 2\n",
      "printing i: 3\n",
      "reached 4\n",
      "printing i: 5\n",
      "printing i: 6\n",
      "printing i: 7\n",
      "printing i: 8\n",
      "reached 9\n"
     ]
    }
   ],
   "source": [
    "for i in range(10):\n",
    "    if i == 4:\n",
    "        print 'reached 4'\n",
    "        continue\n",
    "    elif i ==9:\n",
    "        print 'reached 9'\n",
    "        break\n",
    "        print 'not printing'\n",
    "    print 'printing i:', i"
   ]
  },
  {
   "cell_type": "markdown",
   "metadata": {},
   "source": [
    "#### Build your 8-bit converter as a function that takes in any bit number and outputs 8-bit numbers.   \n",
    "Sample outputs:  \n",
    "`\n",
    "bitconverter(88)= '01011000'\n",
    "bitconverter(8)= '00001000'\n",
    "bitconverter(150) = '10010110'\n",
    "bitconverter(256) = 'overflow'\n",
    "`"
   ]
  },
  {
   "cell_type": "code",
   "execution_count": 1,
   "metadata": {
    "collapsed": false
   },
   "outputs": [
    {
     "data": {
      "text/plain": [
       "'0b100000000'"
      ]
     },
     "execution_count": 1,
     "metadata": {},
     "output_type": "execute_result"
    }
   ],
   "source": [
    "bin(256)"
   ]
  },
  {
   "cell_type": "markdown",
   "metadata": {},
   "source": [
    "F.sameul 19168  \n",
    "Brown 70007  \n",
    "Claire 70006  "
   ]
  }
 ],
 "metadata": {
  "kernelspec": {
   "display_name": "Python [Root]",
   "language": "python",
   "name": "Python [Root]"
  },
  "language_info": {
   "codemirror_mode": {
    "name": "ipython",
    "version": 2
   },
   "file_extension": ".py",
   "mimetype": "text/x-python",
   "name": "python",
   "nbconvert_exporter": "python",
   "pygments_lexer": "ipython2",
   "version": "2.7.13"
  }
 },
 "nbformat": 4,
 "nbformat_minor": 2
}
